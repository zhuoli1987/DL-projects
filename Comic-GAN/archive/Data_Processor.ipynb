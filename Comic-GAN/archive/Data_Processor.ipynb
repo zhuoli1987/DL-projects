{
 "cells": [
  {
   "cell_type": "code",
   "execution_count": null,
   "metadata": {
    "collapsed": true
   },
   "outputs": [],
   "source": [
    "%matplotlib inline\n",
    "\n",
    "import animeface as af\n",
    "import numpy as np\n",
    "\n",
    "import PIL.Image\n",
    "import os\n",
    "import cv2 \n",
    "import glob\n",
    "\n",
    "import matplotlib.pyplot as plt\n",
    "import time"
   ]
  },
  {
   "cell_type": "code",
   "execution_count": null,
   "metadata": {
    "collapsed": true
   },
   "outputs": [],
   "source": [
    "# Parameters\n",
    "image_folder_path = os.getcwd() + '/images'\n",
    "data_folder = 'data'\n",
    "data_folder_path = os.getcwd() + '/' + data_folder\n",
    "max_num = 140000"
   ]
  },
  {
   "cell_type": "code",
   "execution_count": null,
   "metadata": {
    "collapsed": true
   },
   "outputs": [],
   "source": [
    "# Count files\n",
    "def countFile(file_path):\n",
    "    n = 0\n",
    "    for root, dirs, files in os.walk(file_path):\n",
    "        n += len(files)\n",
    "    return n"
   ]
  },
  {
   "cell_type": "code",
   "execution_count": null,
   "metadata": {},
   "outputs": [],
   "source": [
    "# Start to process all the images. Following are the steps:\n",
    "#   1. Detect anime faces\n",
    "#   2. Crop and resize the detected faces\n",
    "#   3. Save the new image\n",
    "#   4. Delete the original image\n",
    "image_type = [\".jpg\", \".png\"]\n",
    "image_index = 43662\n",
    "\n",
    "while(countFile(data_folder_path) <= max_num):\n",
    "    print(\"Waiting...\")\n",
    "    time.sleep(120)\n",
    "    \n",
    "    print(\"Start image processing...\")\n",
    "    if(os.path.isdir(image_folder_path)):\n",
    "        image_list = []\n",
    "        count = 0\n",
    "\n",
    "        # Retrive all items from the folder\n",
    "        for type in image_type:\n",
    "            image_list.extend(glob.glob(image_folder_path + \"/*\" + type))\n",
    "\n",
    "        # Start to process the images\n",
    "        for image_path in image_list:\n",
    "            print('Processing image ' + image_path[-10:])\n",
    "\n",
    "            try:\n",
    "                # Load the image\n",
    "                image = PIL.Image.open(image_path)\n",
    "                # Detect anime faces\n",
    "                faces = af.detect(image)\n",
    "                # Make a copy of the orginal image to draw face detections on\n",
    "                image_cp = np.copy(image)\n",
    "\n",
    "                for face_model in faces:\n",
    "                    # Retrieve the bonding box positions\n",
    "                    fp = face_model.face.pos\n",
    "                    # Crop the face\n",
    "                    face_cropped = image_cp[fp.y: fp.y + fp.height, fp.x: fp.x + fp.width]\n",
    "                    # Resize the image to match 128 x 128 input\n",
    "                    face_resized = cv2.resize(face_cropped, (128,128), interpolation = cv2.INTER_CUBIC)\n",
    "                    # Store the resized image\n",
    "                    if not os.path.exists(data_folder):\n",
    "                        os.makedirs(data_folder)\n",
    "                        \n",
    "                    face_resized = PIL.Image.fromarray(face_resized)\n",
    "                    face_resized.save(data_folder_path + '/img_' + str(image_index) + image_path[-4:])\n",
    "                    # Increase the index\n",
    "                    image_index += 1\n",
    "\n",
    "                # Delete the original image\n",
    "                os.remove(image_path)\n",
    "                image.close()\n",
    "                face_resized.close()\n",
    "            except (IOError, OSError, ValueError):  ## if failed, report it back to the user ##\n",
    "                try:\n",
    "                    # Delete the original image\n",
    "                    os.remove(image_path)\n",
    "                except OSError:\n",
    "                    pass\n",
    "                pass\n",
    "    \n",
    "    print(\"End processing...\")"
   ]
  }
 ],
 "metadata": {
  "kernelspec": {
   "display_name": "Python 3",
   "language": "python",
   "name": "python3"
  },
  "language_info": {
   "codemirror_mode": {
    "name": "ipython",
    "version": 3
   },
   "file_extension": ".py",
   "mimetype": "text/x-python",
   "name": "python",
   "nbconvert_exporter": "python",
   "pygments_lexer": "ipython3",
   "version": "3.6.3"
  }
 },
 "nbformat": 4,
 "nbformat_minor": 2
}
